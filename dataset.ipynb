{
  "nbformat": 4,
  "nbformat_minor": 0,
  "metadata": {
    "colab": {
      "provenance": []
    },
    "kernelspec": {
      "name": "python3",
      "display_name": "Python 3"
    },
    "language_info": {
      "name": "python"
    }
  },
  "cells": [
    {
      "cell_type": "code",
      "execution_count": 104,
      "metadata": {
        "id": "06r62vZfCR_p"
      },
      "outputs": [],
      "source": [
        "import random\n",
        "import pandas as pd\n",
        "import numpy as np\n",
        "import matplotlib.pyplot as plt\n",
        "import seaborn as sns\n",
        "import re\n",
        "from wordcloud import WordCloud\n",
        "from collections import Counter\n"
      ]
    },
    {
      "cell_type": "code",
      "source": [
        "df_covid = pd.read_csv('covid19_tweets.csv', sep=',')"
      ],
      "metadata": {
        "id": "bsufRR0i_sVc"
      },
      "execution_count": 4,
      "outputs": []
    },
    {
      "cell_type": "code",
      "source": [
        "df_covid"
      ],
      "metadata": {
        "colab": {
          "base_uri": "https://localhost:8080/",
          "height": 904
        },
        "id": "J2aemzFQ_sdV",
        "outputId": "add84b95-a9a8-4fd9-a3a3-e2bc401311a1"
      },
      "execution_count": 5,
      "outputs": [
        {
          "output_type": "execute_result",
          "data": {
            "text/plain": [
              "                     user_name               user_location  \\\n",
              "0                       ᏉᎥ☻լꂅϮ                  astroworld   \n",
              "1                Tom Basile 🇺🇸                New York, NY   \n",
              "2              Time4fisticuffs            Pewee Valley, KY   \n",
              "3                  ethel mertz        Stuck in the Middle    \n",
              "4                     DIPR-J&K           Jammu and Kashmir   \n",
              "...                        ...                         ...   \n",
              "179103  AJIMATI AbdulRahman O.             Ilorin, Nigeria   \n",
              "179104                   Jason                     Ontario   \n",
              "179105             BEEHEMOTH ⏳                   🇨🇦 Canada   \n",
              "179106           Gary DelPonte               New York City   \n",
              "179107                 TUKY II  Aliwal North, South Africa   \n",
              "\n",
              "                                         user_description  \\\n",
              "0       wednesday addams as a disney princess keepin i...   \n",
              "1       Husband, Father, Columnist & Commentator. Auth...   \n",
              "2       #Christian #Catholic #Conservative #Reagan #Re...   \n",
              "3       #Browns #Indians #ClevelandProud #[]_[] #Cavs ...   \n",
              "4       🖊️Official Twitter handle of Department of Inf...   \n",
              "...                                                   ...   \n",
              "179103    Animal Scientist|| Muslim|| Real Madrid/Chelsea   \n",
              "179104  When your cat has more baking soda than Ninja ...   \n",
              "179105  ⚒️ The Architects of Free Trade ⚒️ Really Did ...   \n",
              "179106  Global UX UI Visual Designer. StoryTeller, Mus...   \n",
              "179107  TOKELO SEKHOPA | TUKY II | LAST BORN | EISH TU...   \n",
              "\n",
              "               user_created  user_followers  user_friends  user_favourites  \\\n",
              "0       2017-05-26 05:46:42             624           950            18775   \n",
              "1       2009-04-16 20:06:23            2253          1677               24   \n",
              "2       2009-02-28 18:57:41            9275          9525             7254   \n",
              "3       2019-03-07 01:45:06             197           987             1488   \n",
              "4       2017-02-12 06:45:15          101009           168              101   \n",
              "...                     ...             ...           ...              ...   \n",
              "179103  2013-12-30 18:59:19             412          1609             1062   \n",
              "179104  2011-12-21 04:41:30             150           182             7295   \n",
              "179105  2016-07-13 17:21:59            1623          2160            98000   \n",
              "179106  2009-10-27 17:43:13            1338          1111                0   \n",
              "179107  2018-04-14 17:30:07              97          1697              566   \n",
              "\n",
              "        user_verified                 date  \\\n",
              "0               False  2020-07-25 12:27:21   \n",
              "1                True  2020-07-25 12:27:17   \n",
              "2               False  2020-07-25 12:27:14   \n",
              "3               False  2020-07-25 12:27:10   \n",
              "4               False  2020-07-25 12:27:08   \n",
              "...               ...                  ...   \n",
              "179103          False  2020-08-29 19:44:21   \n",
              "179104          False  2020-08-29 19:44:16   \n",
              "179105          False  2020-08-29 19:44:15   \n",
              "179106          False  2020-08-29 19:44:14   \n",
              "179107          False  2020-08-29 19:44:08   \n",
              "\n",
              "                                                     text  \\\n",
              "0       If I smelled the scent of hand sanitizers toda...   \n",
              "1       Hey @Yankees @YankeesPR and @MLB - wouldn't it...   \n",
              "2       @diane3443 @wdunlap @realDonaldTrump Trump nev...   \n",
              "3       @brookbanktv The one gift #COVID19 has give me...   \n",
              "4       25 July : Media Bulletin on Novel #CoronaVirus...   \n",
              "...                                                   ...   \n",
              "179103  Thanks @IamOhmai for nominating me for the @WH...   \n",
              "179104  2020! The year of insanity! Lol! #COVID19 http...   \n",
              "179105  @CTVNews A powerful painting by Juan Lucena. I...   \n",
              "179106  More than 1,200 students test positive for #CO...   \n",
              "179107  I stop when I see a Stop\\n\\n@SABCNews\\n@Izinda...   \n",
              "\n",
              "                                 hashtags               source  is_retweet  \n",
              "0                                     NaN   Twitter for iPhone       False  \n",
              "1                                     NaN  Twitter for Android       False  \n",
              "2                             ['COVID19']  Twitter for Android       False  \n",
              "3                             ['COVID19']   Twitter for iPhone       False  \n",
              "4       ['CoronaVirusUpdates', 'COVID19']  Twitter for Android       False  \n",
              "...                                   ...                  ...         ...  \n",
              "179103                      ['WearAMask']  Twitter for Android       False  \n",
              "179104                        ['COVID19']  Twitter for Android       False  \n",
              "179105                                NaN      Twitter Web App       False  \n",
              "179106                        ['COVID19']   Twitter for iPhone       False  \n",
              "179107                                NaN  Twitter for Android       False  \n",
              "\n",
              "[179108 rows x 13 columns]"
            ],
            "text/html": [
              "\n",
              "  <div id=\"df-d59e7efb-4856-4bfc-a0c0-bffc801ae937\">\n",
              "    <div class=\"colab-df-container\">\n",
              "      <div>\n",
              "<style scoped>\n",
              "    .dataframe tbody tr th:only-of-type {\n",
              "        vertical-align: middle;\n",
              "    }\n",
              "\n",
              "    .dataframe tbody tr th {\n",
              "        vertical-align: top;\n",
              "    }\n",
              "\n",
              "    .dataframe thead th {\n",
              "        text-align: right;\n",
              "    }\n",
              "</style>\n",
              "<table border=\"1\" class=\"dataframe\">\n",
              "  <thead>\n",
              "    <tr style=\"text-align: right;\">\n",
              "      <th></th>\n",
              "      <th>user_name</th>\n",
              "      <th>user_location</th>\n",
              "      <th>user_description</th>\n",
              "      <th>user_created</th>\n",
              "      <th>user_followers</th>\n",
              "      <th>user_friends</th>\n",
              "      <th>user_favourites</th>\n",
              "      <th>user_verified</th>\n",
              "      <th>date</th>\n",
              "      <th>text</th>\n",
              "      <th>hashtags</th>\n",
              "      <th>source</th>\n",
              "      <th>is_retweet</th>\n",
              "    </tr>\n",
              "  </thead>\n",
              "  <tbody>\n",
              "    <tr>\n",
              "      <th>0</th>\n",
              "      <td>ᏉᎥ☻լꂅϮ</td>\n",
              "      <td>astroworld</td>\n",
              "      <td>wednesday addams as a disney princess keepin i...</td>\n",
              "      <td>2017-05-26 05:46:42</td>\n",
              "      <td>624</td>\n",
              "      <td>950</td>\n",
              "      <td>18775</td>\n",
              "      <td>False</td>\n",
              "      <td>2020-07-25 12:27:21</td>\n",
              "      <td>If I smelled the scent of hand sanitizers toda...</td>\n",
              "      <td>NaN</td>\n",
              "      <td>Twitter for iPhone</td>\n",
              "      <td>False</td>\n",
              "    </tr>\n",
              "    <tr>\n",
              "      <th>1</th>\n",
              "      <td>Tom Basile 🇺🇸</td>\n",
              "      <td>New York, NY</td>\n",
              "      <td>Husband, Father, Columnist &amp; Commentator. Auth...</td>\n",
              "      <td>2009-04-16 20:06:23</td>\n",
              "      <td>2253</td>\n",
              "      <td>1677</td>\n",
              "      <td>24</td>\n",
              "      <td>True</td>\n",
              "      <td>2020-07-25 12:27:17</td>\n",
              "      <td>Hey @Yankees @YankeesPR and @MLB - wouldn't it...</td>\n",
              "      <td>NaN</td>\n",
              "      <td>Twitter for Android</td>\n",
              "      <td>False</td>\n",
              "    </tr>\n",
              "    <tr>\n",
              "      <th>2</th>\n",
              "      <td>Time4fisticuffs</td>\n",
              "      <td>Pewee Valley, KY</td>\n",
              "      <td>#Christian #Catholic #Conservative #Reagan #Re...</td>\n",
              "      <td>2009-02-28 18:57:41</td>\n",
              "      <td>9275</td>\n",
              "      <td>9525</td>\n",
              "      <td>7254</td>\n",
              "      <td>False</td>\n",
              "      <td>2020-07-25 12:27:14</td>\n",
              "      <td>@diane3443 @wdunlap @realDonaldTrump Trump nev...</td>\n",
              "      <td>['COVID19']</td>\n",
              "      <td>Twitter for Android</td>\n",
              "      <td>False</td>\n",
              "    </tr>\n",
              "    <tr>\n",
              "      <th>3</th>\n",
              "      <td>ethel mertz</td>\n",
              "      <td>Stuck in the Middle</td>\n",
              "      <td>#Browns #Indians #ClevelandProud #[]_[] #Cavs ...</td>\n",
              "      <td>2019-03-07 01:45:06</td>\n",
              "      <td>197</td>\n",
              "      <td>987</td>\n",
              "      <td>1488</td>\n",
              "      <td>False</td>\n",
              "      <td>2020-07-25 12:27:10</td>\n",
              "      <td>@brookbanktv The one gift #COVID19 has give me...</td>\n",
              "      <td>['COVID19']</td>\n",
              "      <td>Twitter for iPhone</td>\n",
              "      <td>False</td>\n",
              "    </tr>\n",
              "    <tr>\n",
              "      <th>4</th>\n",
              "      <td>DIPR-J&amp;K</td>\n",
              "      <td>Jammu and Kashmir</td>\n",
              "      <td>🖊️Official Twitter handle of Department of Inf...</td>\n",
              "      <td>2017-02-12 06:45:15</td>\n",
              "      <td>101009</td>\n",
              "      <td>168</td>\n",
              "      <td>101</td>\n",
              "      <td>False</td>\n",
              "      <td>2020-07-25 12:27:08</td>\n",
              "      <td>25 July : Media Bulletin on Novel #CoronaVirus...</td>\n",
              "      <td>['CoronaVirusUpdates', 'COVID19']</td>\n",
              "      <td>Twitter for Android</td>\n",
              "      <td>False</td>\n",
              "    </tr>\n",
              "    <tr>\n",
              "      <th>...</th>\n",
              "      <td>...</td>\n",
              "      <td>...</td>\n",
              "      <td>...</td>\n",
              "      <td>...</td>\n",
              "      <td>...</td>\n",
              "      <td>...</td>\n",
              "      <td>...</td>\n",
              "      <td>...</td>\n",
              "      <td>...</td>\n",
              "      <td>...</td>\n",
              "      <td>...</td>\n",
              "      <td>...</td>\n",
              "      <td>...</td>\n",
              "    </tr>\n",
              "    <tr>\n",
              "      <th>179103</th>\n",
              "      <td>AJIMATI AbdulRahman O.</td>\n",
              "      <td>Ilorin, Nigeria</td>\n",
              "      <td>Animal Scientist|| Muslim|| Real Madrid/Chelsea</td>\n",
              "      <td>2013-12-30 18:59:19</td>\n",
              "      <td>412</td>\n",
              "      <td>1609</td>\n",
              "      <td>1062</td>\n",
              "      <td>False</td>\n",
              "      <td>2020-08-29 19:44:21</td>\n",
              "      <td>Thanks @IamOhmai for nominating me for the @WH...</td>\n",
              "      <td>['WearAMask']</td>\n",
              "      <td>Twitter for Android</td>\n",
              "      <td>False</td>\n",
              "    </tr>\n",
              "    <tr>\n",
              "      <th>179104</th>\n",
              "      <td>Jason</td>\n",
              "      <td>Ontario</td>\n",
              "      <td>When your cat has more baking soda than Ninja ...</td>\n",
              "      <td>2011-12-21 04:41:30</td>\n",
              "      <td>150</td>\n",
              "      <td>182</td>\n",
              "      <td>7295</td>\n",
              "      <td>False</td>\n",
              "      <td>2020-08-29 19:44:16</td>\n",
              "      <td>2020! The year of insanity! Lol! #COVID19 http...</td>\n",
              "      <td>['COVID19']</td>\n",
              "      <td>Twitter for Android</td>\n",
              "      <td>False</td>\n",
              "    </tr>\n",
              "    <tr>\n",
              "      <th>179105</th>\n",
              "      <td>BEEHEMOTH ⏳</td>\n",
              "      <td>🇨🇦 Canada</td>\n",
              "      <td>⚒️ The Architects of Free Trade ⚒️ Really Did ...</td>\n",
              "      <td>2016-07-13 17:21:59</td>\n",
              "      <td>1623</td>\n",
              "      <td>2160</td>\n",
              "      <td>98000</td>\n",
              "      <td>False</td>\n",
              "      <td>2020-08-29 19:44:15</td>\n",
              "      <td>@CTVNews A powerful painting by Juan Lucena. I...</td>\n",
              "      <td>NaN</td>\n",
              "      <td>Twitter Web App</td>\n",
              "      <td>False</td>\n",
              "    </tr>\n",
              "    <tr>\n",
              "      <th>179106</th>\n",
              "      <td>Gary DelPonte</td>\n",
              "      <td>New York City</td>\n",
              "      <td>Global UX UI Visual Designer. StoryTeller, Mus...</td>\n",
              "      <td>2009-10-27 17:43:13</td>\n",
              "      <td>1338</td>\n",
              "      <td>1111</td>\n",
              "      <td>0</td>\n",
              "      <td>False</td>\n",
              "      <td>2020-08-29 19:44:14</td>\n",
              "      <td>More than 1,200 students test positive for #CO...</td>\n",
              "      <td>['COVID19']</td>\n",
              "      <td>Twitter for iPhone</td>\n",
              "      <td>False</td>\n",
              "    </tr>\n",
              "    <tr>\n",
              "      <th>179107</th>\n",
              "      <td>TUKY II</td>\n",
              "      <td>Aliwal North, South Africa</td>\n",
              "      <td>TOKELO SEKHOPA | TUKY II | LAST BORN | EISH TU...</td>\n",
              "      <td>2018-04-14 17:30:07</td>\n",
              "      <td>97</td>\n",
              "      <td>1697</td>\n",
              "      <td>566</td>\n",
              "      <td>False</td>\n",
              "      <td>2020-08-29 19:44:08</td>\n",
              "      <td>I stop when I see a Stop\\n\\n@SABCNews\\n@Izinda...</td>\n",
              "      <td>NaN</td>\n",
              "      <td>Twitter for Android</td>\n",
              "      <td>False</td>\n",
              "    </tr>\n",
              "  </tbody>\n",
              "</table>\n",
              "<p>179108 rows × 13 columns</p>\n",
              "</div>\n",
              "      <button class=\"colab-df-convert\" onclick=\"convertToInteractive('df-d59e7efb-4856-4bfc-a0c0-bffc801ae937')\"\n",
              "              title=\"Convert this dataframe to an interactive table.\"\n",
              "              style=\"display:none;\">\n",
              "        \n",
              "  <svg xmlns=\"http://www.w3.org/2000/svg\" height=\"24px\"viewBox=\"0 0 24 24\"\n",
              "       width=\"24px\">\n",
              "    <path d=\"M0 0h24v24H0V0z\" fill=\"none\"/>\n",
              "    <path d=\"M18.56 5.44l.94 2.06.94-2.06 2.06-.94-2.06-.94-.94-2.06-.94 2.06-2.06.94zm-11 1L8.5 8.5l.94-2.06 2.06-.94-2.06-.94L8.5 2.5l-.94 2.06-2.06.94zm10 10l.94 2.06.94-2.06 2.06-.94-2.06-.94-.94-2.06-.94 2.06-2.06.94z\"/><path d=\"M17.41 7.96l-1.37-1.37c-.4-.4-.92-.59-1.43-.59-.52 0-1.04.2-1.43.59L10.3 9.45l-7.72 7.72c-.78.78-.78 2.05 0 2.83L4 21.41c.39.39.9.59 1.41.59.51 0 1.02-.2 1.41-.59l7.78-7.78 2.81-2.81c.8-.78.8-2.07 0-2.86zM5.41 20L4 18.59l7.72-7.72 1.47 1.35L5.41 20z\"/>\n",
              "  </svg>\n",
              "      </button>\n",
              "      \n",
              "  <style>\n",
              "    .colab-df-container {\n",
              "      display:flex;\n",
              "      flex-wrap:wrap;\n",
              "      gap: 12px;\n",
              "    }\n",
              "\n",
              "    .colab-df-convert {\n",
              "      background-color: #E8F0FE;\n",
              "      border: none;\n",
              "      border-radius: 50%;\n",
              "      cursor: pointer;\n",
              "      display: none;\n",
              "      fill: #1967D2;\n",
              "      height: 32px;\n",
              "      padding: 0 0 0 0;\n",
              "      width: 32px;\n",
              "    }\n",
              "\n",
              "    .colab-df-convert:hover {\n",
              "      background-color: #E2EBFA;\n",
              "      box-shadow: 0px 1px 2px rgba(60, 64, 67, 0.3), 0px 1px 3px 1px rgba(60, 64, 67, 0.15);\n",
              "      fill: #174EA6;\n",
              "    }\n",
              "\n",
              "    [theme=dark] .colab-df-convert {\n",
              "      background-color: #3B4455;\n",
              "      fill: #D2E3FC;\n",
              "    }\n",
              "\n",
              "    [theme=dark] .colab-df-convert:hover {\n",
              "      background-color: #434B5C;\n",
              "      box-shadow: 0px 1px 3px 1px rgba(0, 0, 0, 0.15);\n",
              "      filter: drop-shadow(0px 1px 2px rgba(0, 0, 0, 0.3));\n",
              "      fill: #FFFFFF;\n",
              "    }\n",
              "  </style>\n",
              "\n",
              "      <script>\n",
              "        const buttonEl =\n",
              "          document.querySelector('#df-d59e7efb-4856-4bfc-a0c0-bffc801ae937 button.colab-df-convert');\n",
              "        buttonEl.style.display =\n",
              "          google.colab.kernel.accessAllowed ? 'block' : 'none';\n",
              "\n",
              "        async function convertToInteractive(key) {\n",
              "          const element = document.querySelector('#df-d59e7efb-4856-4bfc-a0c0-bffc801ae937');\n",
              "          const dataTable =\n",
              "            await google.colab.kernel.invokeFunction('convertToInteractive',\n",
              "                                                     [key], {});\n",
              "          if (!dataTable) return;\n",
              "\n",
              "          const docLinkHtml = 'Like what you see? Visit the ' +\n",
              "            '<a target=\"_blank\" href=https://colab.research.google.com/notebooks/data_table.ipynb>data table notebook</a>'\n",
              "            + ' to learn more about interactive tables.';\n",
              "          element.innerHTML = '';\n",
              "          dataTable['output_type'] = 'display_data';\n",
              "          await google.colab.output.renderOutput(dataTable, element);\n",
              "          const docLink = document.createElement('div');\n",
              "          docLink.innerHTML = docLinkHtml;\n",
              "          element.appendChild(docLink);\n",
              "        }\n",
              "      </script>\n",
              "    </div>\n",
              "  </div>\n",
              "  "
            ]
          },
          "metadata": {},
          "execution_count": 5
        }
      ]
    },
    {
      "cell_type": "markdown",
      "source": [
        "# Limpieza del dataset"
      ],
      "metadata": {
        "id": "l6GFzSf3gBQk"
      }
    },
    {
      "cell_type": "markdown",
      "source": [
        "Primero comprobamos que tipo de datos contiene el dataset"
      ],
      "metadata": {
        "id": "NRYXd_jBgEg4"
      }
    },
    {
      "cell_type": "code",
      "source": [
        "df_covid.info()"
      ],
      "metadata": {
        "colab": {
          "base_uri": "https://localhost:8080/"
        },
        "id": "4rM4cF6J_shD",
        "outputId": "cce98b71-0f5a-440d-9477-1280d3164482"
      },
      "execution_count": 6,
      "outputs": [
        {
          "output_type": "stream",
          "name": "stdout",
          "text": [
            "<class 'pandas.core.frame.DataFrame'>\n",
            "RangeIndex: 179108 entries, 0 to 179107\n",
            "Data columns (total 13 columns):\n",
            " #   Column            Non-Null Count   Dtype \n",
            "---  ------            --------------   ----- \n",
            " 0   user_name         179108 non-null  object\n",
            " 1   user_location     142337 non-null  object\n",
            " 2   user_description  168822 non-null  object\n",
            " 3   user_created      179108 non-null  object\n",
            " 4   user_followers    179108 non-null  int64 \n",
            " 5   user_friends      179108 non-null  int64 \n",
            " 6   user_favourites   179108 non-null  int64 \n",
            " 7   user_verified     179108 non-null  bool  \n",
            " 8   date              179108 non-null  object\n",
            " 9   text              179108 non-null  object\n",
            " 10  hashtags          127774 non-null  object\n",
            " 11  source            179031 non-null  object\n",
            " 12  is_retweet        179108 non-null  bool  \n",
            "dtypes: bool(2), int64(3), object(8)\n",
            "memory usage: 15.4+ MB\n"
          ]
        }
      ]
    },
    {
      "cell_type": "markdown",
      "source": [
        "Convertimos las fechas de cadena de caracteres al formato de fecha de Pandas"
      ],
      "metadata": {
        "id": "a9xGO3Lgjfdj"
      }
    },
    {
      "cell_type": "code",
      "source": [
        "df_covid['date'] = pd.to_datetime(df_covid['date'])"
      ],
      "metadata": {
        "id": "60uJEvqwTGxS"
      },
      "execution_count": 7,
      "outputs": []
    },
    {
      "cell_type": "markdown",
      "source": [
        "Comprobamos si hay duplicados"
      ],
      "metadata": {
        "id": "7-jLnl0BiMJB"
      }
    },
    {
      "cell_type": "code",
      "source": [
        "duplicates = df_covid.duplicated()\n",
        "if duplicates.any():\n",
        "    print(\"True\")\n",
        "else:\n",
        "    print(\"False\")"
      ],
      "metadata": {
        "colab": {
          "base_uri": "https://localhost:8080/"
        },
        "id": "hJTTtj1AgdTe",
        "outputId": "de2029f1-8d1c-4f0c-e473-ae8642ad4bb9"
      },
      "execution_count": 8,
      "outputs": [
        {
          "output_type": "stream",
          "name": "stdout",
          "text": [
            "False\n"
          ]
        }
      ]
    },
    {
      "cell_type": "markdown",
      "source": [
        "Dependiendo del analisis que queramos hacer nos importarán más unos datos u otros. A mi no me interesan las columnas user_description, user_created, user_followers, user_friends, user_favorites, user_verified, source.<br>\n",
        "Con los datos que nos quedan podriamos hacer un analisis geográfico con la location, o sobre el contenido de los tweets, también se podrían hacer cosas con la date e incluso hashtags."
      ],
      "metadata": {
        "id": "RLLurNcqGc75"
      }
    },
    {
      "cell_type": "code",
      "source": [
        "df_covid2 = df_covid.drop(['user_name', 'user_description', 'user_created', 'user_followers', 'user_friends', 'user_favourites', 'user_verified', 'source', 'is_retweet'], axis=1)\n"
      ],
      "metadata": {
        "id": "-PasVCfhd8Uf"
      },
      "execution_count": 9,
      "outputs": []
    },
    {
      "cell_type": "markdown",
      "source": [
        "No hay duplicados, a continuación vemos si hay valores perdidos o faltantes"
      ],
      "metadata": {
        "id": "aWWNWxUJiPXc"
      }
    },
    {
      "cell_type": "code",
      "source": [
        "df_covid2.isna().sum()"
      ],
      "metadata": {
        "colab": {
          "base_uri": "https://localhost:8080/"
        },
        "id": "TZzqe8OUTiUB",
        "outputId": "52fccc64-bc6b-48d1-8052-c90de4a3f839"
      },
      "execution_count": 10,
      "outputs": [
        {
          "output_type": "execute_result",
          "data": {
            "text/plain": [
              "user_location    36771\n",
              "date                 0\n",
              "text                 0\n",
              "hashtags         51334\n",
              "dtype: int64"
            ]
          },
          "metadata": {},
          "execution_count": 10
        }
      ]
    },
    {
      "cell_type": "code",
      "source": [
        "df_covid2.shape"
      ],
      "metadata": {
        "colab": {
          "base_uri": "https://localhost:8080/"
        },
        "id": "ob3iUve1fzMx",
        "outputId": "6763d805-dd42-44f1-d929-2a8b0f52a70f"
      },
      "execution_count": 11,
      "outputs": [
        {
          "output_type": "execute_result",
          "data": {
            "text/plain": [
              "(179108, 4)"
            ]
          },
          "metadata": {},
          "execution_count": 11
        }
      ]
    },
    {
      "cell_type": "markdown",
      "source": [
        "Si nos interesara analizar los hashtags, utilizariamos df_covid2, pero para seguir limpiando el dataset vamos a dropear todos datos nulos. Esto nos quita todos los tweets que no tengan hashtags y los cuales el usuario no tenga la location"
      ],
      "metadata": {
        "id": "oKy8thSliw_h"
      }
    },
    {
      "cell_type": "code",
      "source": [
        "df_covid2"
      ],
      "metadata": {
        "colab": {
          "base_uri": "https://localhost:8080/",
          "height": 423
        },
        "id": "GicMtHDlsJbE",
        "outputId": "a4f05d37-cf5f-43a8-9d5c-fc6be8952309"
      },
      "execution_count": 12,
      "outputs": [
        {
          "output_type": "execute_result",
          "data": {
            "text/plain": [
              "                     user_location                date  \\\n",
              "0                       astroworld 2020-07-25 12:27:21   \n",
              "1                     New York, NY 2020-07-25 12:27:17   \n",
              "2                 Pewee Valley, KY 2020-07-25 12:27:14   \n",
              "3             Stuck in the Middle  2020-07-25 12:27:10   \n",
              "4                Jammu and Kashmir 2020-07-25 12:27:08   \n",
              "...                            ...                 ...   \n",
              "179103             Ilorin, Nigeria 2020-08-29 19:44:21   \n",
              "179104                     Ontario 2020-08-29 19:44:16   \n",
              "179105                   🇨🇦 Canada 2020-08-29 19:44:15   \n",
              "179106               New York City 2020-08-29 19:44:14   \n",
              "179107  Aliwal North, South Africa 2020-08-29 19:44:08   \n",
              "\n",
              "                                                     text  \\\n",
              "0       If I smelled the scent of hand sanitizers toda...   \n",
              "1       Hey @Yankees @YankeesPR and @MLB - wouldn't it...   \n",
              "2       @diane3443 @wdunlap @realDonaldTrump Trump nev...   \n",
              "3       @brookbanktv The one gift #COVID19 has give me...   \n",
              "4       25 July : Media Bulletin on Novel #CoronaVirus...   \n",
              "...                                                   ...   \n",
              "179103  Thanks @IamOhmai for nominating me for the @WH...   \n",
              "179104  2020! The year of insanity! Lol! #COVID19 http...   \n",
              "179105  @CTVNews A powerful painting by Juan Lucena. I...   \n",
              "179106  More than 1,200 students test positive for #CO...   \n",
              "179107  I stop when I see a Stop\\n\\n@SABCNews\\n@Izinda...   \n",
              "\n",
              "                                 hashtags  \n",
              "0                                     NaN  \n",
              "1                                     NaN  \n",
              "2                             ['COVID19']  \n",
              "3                             ['COVID19']  \n",
              "4       ['CoronaVirusUpdates', 'COVID19']  \n",
              "...                                   ...  \n",
              "179103                      ['WearAMask']  \n",
              "179104                        ['COVID19']  \n",
              "179105                                NaN  \n",
              "179106                        ['COVID19']  \n",
              "179107                                NaN  \n",
              "\n",
              "[179108 rows x 4 columns]"
            ],
            "text/html": [
              "\n",
              "  <div id=\"df-e748347f-b1a0-443b-bbeb-7dc3c44b3bf9\">\n",
              "    <div class=\"colab-df-container\">\n",
              "      <div>\n",
              "<style scoped>\n",
              "    .dataframe tbody tr th:only-of-type {\n",
              "        vertical-align: middle;\n",
              "    }\n",
              "\n",
              "    .dataframe tbody tr th {\n",
              "        vertical-align: top;\n",
              "    }\n",
              "\n",
              "    .dataframe thead th {\n",
              "        text-align: right;\n",
              "    }\n",
              "</style>\n",
              "<table border=\"1\" class=\"dataframe\">\n",
              "  <thead>\n",
              "    <tr style=\"text-align: right;\">\n",
              "      <th></th>\n",
              "      <th>user_location</th>\n",
              "      <th>date</th>\n",
              "      <th>text</th>\n",
              "      <th>hashtags</th>\n",
              "    </tr>\n",
              "  </thead>\n",
              "  <tbody>\n",
              "    <tr>\n",
              "      <th>0</th>\n",
              "      <td>astroworld</td>\n",
              "      <td>2020-07-25 12:27:21</td>\n",
              "      <td>If I smelled the scent of hand sanitizers toda...</td>\n",
              "      <td>NaN</td>\n",
              "    </tr>\n",
              "    <tr>\n",
              "      <th>1</th>\n",
              "      <td>New York, NY</td>\n",
              "      <td>2020-07-25 12:27:17</td>\n",
              "      <td>Hey @Yankees @YankeesPR and @MLB - wouldn't it...</td>\n",
              "      <td>NaN</td>\n",
              "    </tr>\n",
              "    <tr>\n",
              "      <th>2</th>\n",
              "      <td>Pewee Valley, KY</td>\n",
              "      <td>2020-07-25 12:27:14</td>\n",
              "      <td>@diane3443 @wdunlap @realDonaldTrump Trump nev...</td>\n",
              "      <td>['COVID19']</td>\n",
              "    </tr>\n",
              "    <tr>\n",
              "      <th>3</th>\n",
              "      <td>Stuck in the Middle</td>\n",
              "      <td>2020-07-25 12:27:10</td>\n",
              "      <td>@brookbanktv The one gift #COVID19 has give me...</td>\n",
              "      <td>['COVID19']</td>\n",
              "    </tr>\n",
              "    <tr>\n",
              "      <th>4</th>\n",
              "      <td>Jammu and Kashmir</td>\n",
              "      <td>2020-07-25 12:27:08</td>\n",
              "      <td>25 July : Media Bulletin on Novel #CoronaVirus...</td>\n",
              "      <td>['CoronaVirusUpdates', 'COVID19']</td>\n",
              "    </tr>\n",
              "    <tr>\n",
              "      <th>...</th>\n",
              "      <td>...</td>\n",
              "      <td>...</td>\n",
              "      <td>...</td>\n",
              "      <td>...</td>\n",
              "    </tr>\n",
              "    <tr>\n",
              "      <th>179103</th>\n",
              "      <td>Ilorin, Nigeria</td>\n",
              "      <td>2020-08-29 19:44:21</td>\n",
              "      <td>Thanks @IamOhmai for nominating me for the @WH...</td>\n",
              "      <td>['WearAMask']</td>\n",
              "    </tr>\n",
              "    <tr>\n",
              "      <th>179104</th>\n",
              "      <td>Ontario</td>\n",
              "      <td>2020-08-29 19:44:16</td>\n",
              "      <td>2020! The year of insanity! Lol! #COVID19 http...</td>\n",
              "      <td>['COVID19']</td>\n",
              "    </tr>\n",
              "    <tr>\n",
              "      <th>179105</th>\n",
              "      <td>🇨🇦 Canada</td>\n",
              "      <td>2020-08-29 19:44:15</td>\n",
              "      <td>@CTVNews A powerful painting by Juan Lucena. I...</td>\n",
              "      <td>NaN</td>\n",
              "    </tr>\n",
              "    <tr>\n",
              "      <th>179106</th>\n",
              "      <td>New York City</td>\n",
              "      <td>2020-08-29 19:44:14</td>\n",
              "      <td>More than 1,200 students test positive for #CO...</td>\n",
              "      <td>['COVID19']</td>\n",
              "    </tr>\n",
              "    <tr>\n",
              "      <th>179107</th>\n",
              "      <td>Aliwal North, South Africa</td>\n",
              "      <td>2020-08-29 19:44:08</td>\n",
              "      <td>I stop when I see a Stop\\n\\n@SABCNews\\n@Izinda...</td>\n",
              "      <td>NaN</td>\n",
              "    </tr>\n",
              "  </tbody>\n",
              "</table>\n",
              "<p>179108 rows × 4 columns</p>\n",
              "</div>\n",
              "      <button class=\"colab-df-convert\" onclick=\"convertToInteractive('df-e748347f-b1a0-443b-bbeb-7dc3c44b3bf9')\"\n",
              "              title=\"Convert this dataframe to an interactive table.\"\n",
              "              style=\"display:none;\">\n",
              "        \n",
              "  <svg xmlns=\"http://www.w3.org/2000/svg\" height=\"24px\"viewBox=\"0 0 24 24\"\n",
              "       width=\"24px\">\n",
              "    <path d=\"M0 0h24v24H0V0z\" fill=\"none\"/>\n",
              "    <path d=\"M18.56 5.44l.94 2.06.94-2.06 2.06-.94-2.06-.94-.94-2.06-.94 2.06-2.06.94zm-11 1L8.5 8.5l.94-2.06 2.06-.94-2.06-.94L8.5 2.5l-.94 2.06-2.06.94zm10 10l.94 2.06.94-2.06 2.06-.94-2.06-.94-.94-2.06-.94 2.06-2.06.94z\"/><path d=\"M17.41 7.96l-1.37-1.37c-.4-.4-.92-.59-1.43-.59-.52 0-1.04.2-1.43.59L10.3 9.45l-7.72 7.72c-.78.78-.78 2.05 0 2.83L4 21.41c.39.39.9.59 1.41.59.51 0 1.02-.2 1.41-.59l7.78-7.78 2.81-2.81c.8-.78.8-2.07 0-2.86zM5.41 20L4 18.59l7.72-7.72 1.47 1.35L5.41 20z\"/>\n",
              "  </svg>\n",
              "      </button>\n",
              "      \n",
              "  <style>\n",
              "    .colab-df-container {\n",
              "      display:flex;\n",
              "      flex-wrap:wrap;\n",
              "      gap: 12px;\n",
              "    }\n",
              "\n",
              "    .colab-df-convert {\n",
              "      background-color: #E8F0FE;\n",
              "      border: none;\n",
              "      border-radius: 50%;\n",
              "      cursor: pointer;\n",
              "      display: none;\n",
              "      fill: #1967D2;\n",
              "      height: 32px;\n",
              "      padding: 0 0 0 0;\n",
              "      width: 32px;\n",
              "    }\n",
              "\n",
              "    .colab-df-convert:hover {\n",
              "      background-color: #E2EBFA;\n",
              "      box-shadow: 0px 1px 2px rgba(60, 64, 67, 0.3), 0px 1px 3px 1px rgba(60, 64, 67, 0.15);\n",
              "      fill: #174EA6;\n",
              "    }\n",
              "\n",
              "    [theme=dark] .colab-df-convert {\n",
              "      background-color: #3B4455;\n",
              "      fill: #D2E3FC;\n",
              "    }\n",
              "\n",
              "    [theme=dark] .colab-df-convert:hover {\n",
              "      background-color: #434B5C;\n",
              "      box-shadow: 0px 1px 3px 1px rgba(0, 0, 0, 0.15);\n",
              "      filter: drop-shadow(0px 1px 2px rgba(0, 0, 0, 0.3));\n",
              "      fill: #FFFFFF;\n",
              "    }\n",
              "  </style>\n",
              "\n",
              "      <script>\n",
              "        const buttonEl =\n",
              "          document.querySelector('#df-e748347f-b1a0-443b-bbeb-7dc3c44b3bf9 button.colab-df-convert');\n",
              "        buttonEl.style.display =\n",
              "          google.colab.kernel.accessAllowed ? 'block' : 'none';\n",
              "\n",
              "        async function convertToInteractive(key) {\n",
              "          const element = document.querySelector('#df-e748347f-b1a0-443b-bbeb-7dc3c44b3bf9');\n",
              "          const dataTable =\n",
              "            await google.colab.kernel.invokeFunction('convertToInteractive',\n",
              "                                                     [key], {});\n",
              "          if (!dataTable) return;\n",
              "\n",
              "          const docLinkHtml = 'Like what you see? Visit the ' +\n",
              "            '<a target=\"_blank\" href=https://colab.research.google.com/notebooks/data_table.ipynb>data table notebook</a>'\n",
              "            + ' to learn more about interactive tables.';\n",
              "          element.innerHTML = '';\n",
              "          dataTable['output_type'] = 'display_data';\n",
              "          await google.colab.output.renderOutput(dataTable, element);\n",
              "          const docLink = document.createElement('div');\n",
              "          docLink.innerHTML = docLinkHtml;\n",
              "          element.appendChild(docLink);\n",
              "        }\n",
              "      </script>\n",
              "    </div>\n",
              "  </div>\n",
              "  "
            ]
          },
          "metadata": {},
          "execution_count": 12
        }
      ]
    },
    {
      "cell_type": "code",
      "source": [
        "df_covid3 = df_covid2.dropna()"
      ],
      "metadata": {
        "id": "X2jMX_i1TvXe"
      },
      "execution_count": 13,
      "outputs": []
    },
    {
      "cell_type": "code",
      "source": [
        "df_covid3.shape"
      ],
      "metadata": {
        "colab": {
          "base_uri": "https://localhost:8080/"
        },
        "id": "ki6qhp7qfuNi",
        "outputId": "8ca1026d-4989-483a-bc60-40278c9c71ff"
      },
      "execution_count": 14,
      "outputs": [
        {
          "output_type": "execute_result",
          "data": {
            "text/plain": [
              "(101970, 4)"
            ]
          },
          "metadata": {},
          "execution_count": 14
        }
      ]
    },
    {
      "cell_type": "markdown",
      "source": [
        "Nos hemos deshecho de aproximadamente 78.000 tweets"
      ],
      "metadata": {
        "id": "EaC9eN85jPmc"
      }
    },
    {
      "cell_type": "code",
      "source": [
        "df_covid3"
      ],
      "metadata": {
        "colab": {
          "base_uri": "https://localhost:8080/",
          "height": 423
        },
        "id": "41PoEk1BeH_4",
        "outputId": "7e43d7fb-8b07-4c71-cae1-4f0b1f640c19"
      },
      "execution_count": 15,
      "outputs": [
        {
          "output_type": "execute_result",
          "data": {
            "text/plain": [
              "               user_location                date  \\\n",
              "2           Pewee Valley, KY 2020-07-25 12:27:14   \n",
              "3       Stuck in the Middle  2020-07-25 12:27:10   \n",
              "4          Jammu and Kashmir 2020-07-25 12:27:08   \n",
              "5                Новоро́ссия 2020-07-25 12:27:06   \n",
              "6            Gainesville, FL 2020-07-25 12:27:03   \n",
              "...                      ...                 ...   \n",
              "179101            Newton, NJ 2020-08-29 19:44:27   \n",
              "179102                  T.O. 2020-08-29 19:44:23   \n",
              "179103       Ilorin, Nigeria 2020-08-29 19:44:21   \n",
              "179104               Ontario 2020-08-29 19:44:16   \n",
              "179106         New York City 2020-08-29 19:44:14   \n",
              "\n",
              "                                                     text  \\\n",
              "2       @diane3443 @wdunlap @realDonaldTrump Trump nev...   \n",
              "3       @brookbanktv The one gift #COVID19 has give me...   \n",
              "4       25 July : Media Bulletin on Novel #CoronaVirus...   \n",
              "5       #coronavirus #covid19 deaths continue to rise....   \n",
              "6       How #COVID19 Will Change Work in General (and ...   \n",
              "...                                                   ...   \n",
              "179101  Wallkill school nurse adds COVID-19 monitoring...   \n",
              "179102  we have reached 25mil cases of #covid19, world...   \n",
              "179103  Thanks @IamOhmai for nominating me for the @WH...   \n",
              "179104  2020! The year of insanity! Lol! #COVID19 http...   \n",
              "179106  More than 1,200 students test positive for #CO...   \n",
              "\n",
              "                                               hashtags  \n",
              "2                                           ['COVID19']  \n",
              "3                                           ['COVID19']  \n",
              "4                     ['CoronaVirusUpdates', 'COVID19']  \n",
              "5                            ['coronavirus', 'covid19']  \n",
              "6                             ['COVID19', 'Recruiting']  \n",
              "...                                                 ...  \n",
              "179101  ['nurses', 'COVID19', 'coronavirus', 'schools']  \n",
              "179102                                      ['covid19']  \n",
              "179103                                    ['WearAMask']  \n",
              "179104                                      ['COVID19']  \n",
              "179106                                      ['COVID19']  \n",
              "\n",
              "[101970 rows x 4 columns]"
            ],
            "text/html": [
              "\n",
              "  <div id=\"df-b7ab2023-368b-45dc-a2af-0a25d1d0b22b\">\n",
              "    <div class=\"colab-df-container\">\n",
              "      <div>\n",
              "<style scoped>\n",
              "    .dataframe tbody tr th:only-of-type {\n",
              "        vertical-align: middle;\n",
              "    }\n",
              "\n",
              "    .dataframe tbody tr th {\n",
              "        vertical-align: top;\n",
              "    }\n",
              "\n",
              "    .dataframe thead th {\n",
              "        text-align: right;\n",
              "    }\n",
              "</style>\n",
              "<table border=\"1\" class=\"dataframe\">\n",
              "  <thead>\n",
              "    <tr style=\"text-align: right;\">\n",
              "      <th></th>\n",
              "      <th>user_location</th>\n",
              "      <th>date</th>\n",
              "      <th>text</th>\n",
              "      <th>hashtags</th>\n",
              "    </tr>\n",
              "  </thead>\n",
              "  <tbody>\n",
              "    <tr>\n",
              "      <th>2</th>\n",
              "      <td>Pewee Valley, KY</td>\n",
              "      <td>2020-07-25 12:27:14</td>\n",
              "      <td>@diane3443 @wdunlap @realDonaldTrump Trump nev...</td>\n",
              "      <td>['COVID19']</td>\n",
              "    </tr>\n",
              "    <tr>\n",
              "      <th>3</th>\n",
              "      <td>Stuck in the Middle</td>\n",
              "      <td>2020-07-25 12:27:10</td>\n",
              "      <td>@brookbanktv The one gift #COVID19 has give me...</td>\n",
              "      <td>['COVID19']</td>\n",
              "    </tr>\n",
              "    <tr>\n",
              "      <th>4</th>\n",
              "      <td>Jammu and Kashmir</td>\n",
              "      <td>2020-07-25 12:27:08</td>\n",
              "      <td>25 July : Media Bulletin on Novel #CoronaVirus...</td>\n",
              "      <td>['CoronaVirusUpdates', 'COVID19']</td>\n",
              "    </tr>\n",
              "    <tr>\n",
              "      <th>5</th>\n",
              "      <td>Новоро́ссия</td>\n",
              "      <td>2020-07-25 12:27:06</td>\n",
              "      <td>#coronavirus #covid19 deaths continue to rise....</td>\n",
              "      <td>['coronavirus', 'covid19']</td>\n",
              "    </tr>\n",
              "    <tr>\n",
              "      <th>6</th>\n",
              "      <td>Gainesville, FL</td>\n",
              "      <td>2020-07-25 12:27:03</td>\n",
              "      <td>How #COVID19 Will Change Work in General (and ...</td>\n",
              "      <td>['COVID19', 'Recruiting']</td>\n",
              "    </tr>\n",
              "    <tr>\n",
              "      <th>...</th>\n",
              "      <td>...</td>\n",
              "      <td>...</td>\n",
              "      <td>...</td>\n",
              "      <td>...</td>\n",
              "    </tr>\n",
              "    <tr>\n",
              "      <th>179101</th>\n",
              "      <td>Newton, NJ</td>\n",
              "      <td>2020-08-29 19:44:27</td>\n",
              "      <td>Wallkill school nurse adds COVID-19 monitoring...</td>\n",
              "      <td>['nurses', 'COVID19', 'coronavirus', 'schools']</td>\n",
              "    </tr>\n",
              "    <tr>\n",
              "      <th>179102</th>\n",
              "      <td>T.O.</td>\n",
              "      <td>2020-08-29 19:44:23</td>\n",
              "      <td>we have reached 25mil cases of #covid19, world...</td>\n",
              "      <td>['covid19']</td>\n",
              "    </tr>\n",
              "    <tr>\n",
              "      <th>179103</th>\n",
              "      <td>Ilorin, Nigeria</td>\n",
              "      <td>2020-08-29 19:44:21</td>\n",
              "      <td>Thanks @IamOhmai for nominating me for the @WH...</td>\n",
              "      <td>['WearAMask']</td>\n",
              "    </tr>\n",
              "    <tr>\n",
              "      <th>179104</th>\n",
              "      <td>Ontario</td>\n",
              "      <td>2020-08-29 19:44:16</td>\n",
              "      <td>2020! The year of insanity! Lol! #COVID19 http...</td>\n",
              "      <td>['COVID19']</td>\n",
              "    </tr>\n",
              "    <tr>\n",
              "      <th>179106</th>\n",
              "      <td>New York City</td>\n",
              "      <td>2020-08-29 19:44:14</td>\n",
              "      <td>More than 1,200 students test positive for #CO...</td>\n",
              "      <td>['COVID19']</td>\n",
              "    </tr>\n",
              "  </tbody>\n",
              "</table>\n",
              "<p>101970 rows × 4 columns</p>\n",
              "</div>\n",
              "      <button class=\"colab-df-convert\" onclick=\"convertToInteractive('df-b7ab2023-368b-45dc-a2af-0a25d1d0b22b')\"\n",
              "              title=\"Convert this dataframe to an interactive table.\"\n",
              "              style=\"display:none;\">\n",
              "        \n",
              "  <svg xmlns=\"http://www.w3.org/2000/svg\" height=\"24px\"viewBox=\"0 0 24 24\"\n",
              "       width=\"24px\">\n",
              "    <path d=\"M0 0h24v24H0V0z\" fill=\"none\"/>\n",
              "    <path d=\"M18.56 5.44l.94 2.06.94-2.06 2.06-.94-2.06-.94-.94-2.06-.94 2.06-2.06.94zm-11 1L8.5 8.5l.94-2.06 2.06-.94-2.06-.94L8.5 2.5l-.94 2.06-2.06.94zm10 10l.94 2.06.94-2.06 2.06-.94-2.06-.94-.94-2.06-.94 2.06-2.06.94z\"/><path d=\"M17.41 7.96l-1.37-1.37c-.4-.4-.92-.59-1.43-.59-.52 0-1.04.2-1.43.59L10.3 9.45l-7.72 7.72c-.78.78-.78 2.05 0 2.83L4 21.41c.39.39.9.59 1.41.59.51 0 1.02-.2 1.41-.59l7.78-7.78 2.81-2.81c.8-.78.8-2.07 0-2.86zM5.41 20L4 18.59l7.72-7.72 1.47 1.35L5.41 20z\"/>\n",
              "  </svg>\n",
              "      </button>\n",
              "      \n",
              "  <style>\n",
              "    .colab-df-container {\n",
              "      display:flex;\n",
              "      flex-wrap:wrap;\n",
              "      gap: 12px;\n",
              "    }\n",
              "\n",
              "    .colab-df-convert {\n",
              "      background-color: #E8F0FE;\n",
              "      border: none;\n",
              "      border-radius: 50%;\n",
              "      cursor: pointer;\n",
              "      display: none;\n",
              "      fill: #1967D2;\n",
              "      height: 32px;\n",
              "      padding: 0 0 0 0;\n",
              "      width: 32px;\n",
              "    }\n",
              "\n",
              "    .colab-df-convert:hover {\n",
              "      background-color: #E2EBFA;\n",
              "      box-shadow: 0px 1px 2px rgba(60, 64, 67, 0.3), 0px 1px 3px 1px rgba(60, 64, 67, 0.15);\n",
              "      fill: #174EA6;\n",
              "    }\n",
              "\n",
              "    [theme=dark] .colab-df-convert {\n",
              "      background-color: #3B4455;\n",
              "      fill: #D2E3FC;\n",
              "    }\n",
              "\n",
              "    [theme=dark] .colab-df-convert:hover {\n",
              "      background-color: #434B5C;\n",
              "      box-shadow: 0px 1px 3px 1px rgba(0, 0, 0, 0.15);\n",
              "      filter: drop-shadow(0px 1px 2px rgba(0, 0, 0, 0.3));\n",
              "      fill: #FFFFFF;\n",
              "    }\n",
              "  </style>\n",
              "\n",
              "      <script>\n",
              "        const buttonEl =\n",
              "          document.querySelector('#df-b7ab2023-368b-45dc-a2af-0a25d1d0b22b button.colab-df-convert');\n",
              "        buttonEl.style.display =\n",
              "          google.colab.kernel.accessAllowed ? 'block' : 'none';\n",
              "\n",
              "        async function convertToInteractive(key) {\n",
              "          const element = document.querySelector('#df-b7ab2023-368b-45dc-a2af-0a25d1d0b22b');\n",
              "          const dataTable =\n",
              "            await google.colab.kernel.invokeFunction('convertToInteractive',\n",
              "                                                     [key], {});\n",
              "          if (!dataTable) return;\n",
              "\n",
              "          const docLinkHtml = 'Like what you see? Visit the ' +\n",
              "            '<a target=\"_blank\" href=https://colab.research.google.com/notebooks/data_table.ipynb>data table notebook</a>'\n",
              "            + ' to learn more about interactive tables.';\n",
              "          element.innerHTML = '';\n",
              "          dataTable['output_type'] = 'display_data';\n",
              "          await google.colab.output.renderOutput(dataTable, element);\n",
              "          const docLink = document.createElement('div');\n",
              "          docLink.innerHTML = docLinkHtml;\n",
              "          element.appendChild(docLink);\n",
              "        }\n",
              "      </script>\n",
              "    </div>\n",
              "  </div>\n",
              "  "
            ]
          },
          "metadata": {},
          "execution_count": 15
        }
      ]
    },
    {
      "cell_type": "code",
      "source": [
        "df_covid3.isnull().values.any()"
      ],
      "metadata": {
        "colab": {
          "base_uri": "https://localhost:8080/"
        },
        "id": "uMndxsqmFSFi",
        "outputId": "f30c9b18-9f3d-4f1b-ee64-78f47618970f"
      },
      "execution_count": 16,
      "outputs": [
        {
          "output_type": "execute_result",
          "data": {
            "text/plain": [
              "False"
            ]
          },
          "metadata": {},
          "execution_count": 16
        }
      ]
    },
    {
      "cell_type": "code",
      "source": [
        "round(df_covid3.describe(), 2)"
      ],
      "metadata": {
        "colab": {
          "base_uri": "https://localhost:8080/",
          "height": 292
        },
        "id": "bR7ueAsjFR6I",
        "outputId": "457b4a7c-4c3c-427d-9024-8b000ac42286"
      },
      "execution_count": 17,
      "outputs": [
        {
          "output_type": "stream",
          "name": "stderr",
          "text": [
            "<ipython-input-17-9af97d95b078>:1: FutureWarning: Treating datetime data as categorical rather than numeric in `.describe` is deprecated and will be removed in a future version of pandas. Specify `datetime_is_numeric=True` to silence this warning and adopt the future behavior now.\n",
            "  round(df_covid3.describe(), 2)\n"
          ]
        },
        {
          "output_type": "execute_result",
          "data": {
            "text/plain": [
              "       user_location                 date  \\\n",
              "count         101970               101970   \n",
              "unique         21296                85887   \n",
              "top            India  2020-07-29 16:00:00   \n",
              "freq            2978                   18   \n",
              "first            NaN  2020-07-24 23:47:12   \n",
              "last             NaN  2020-08-30 09:07:34   \n",
              "\n",
              "                                                     text     hashtags  \n",
              "count                                              101970       101970  \n",
              "unique                                             101767        42865  \n",
              "top     In The Doom Days Of #COVID19 And Other Trouble...  ['COVID19']  \n",
              "freq                                                   10        30903  \n",
              "first                                                 NaN          NaN  \n",
              "last                                                  NaN          NaN  "
            ],
            "text/html": [
              "\n",
              "  <div id=\"df-2d93ee55-725b-4d07-baa9-6cfc0e15af0b\">\n",
              "    <div class=\"colab-df-container\">\n",
              "      <div>\n",
              "<style scoped>\n",
              "    .dataframe tbody tr th:only-of-type {\n",
              "        vertical-align: middle;\n",
              "    }\n",
              "\n",
              "    .dataframe tbody tr th {\n",
              "        vertical-align: top;\n",
              "    }\n",
              "\n",
              "    .dataframe thead th {\n",
              "        text-align: right;\n",
              "    }\n",
              "</style>\n",
              "<table border=\"1\" class=\"dataframe\">\n",
              "  <thead>\n",
              "    <tr style=\"text-align: right;\">\n",
              "      <th></th>\n",
              "      <th>user_location</th>\n",
              "      <th>date</th>\n",
              "      <th>text</th>\n",
              "      <th>hashtags</th>\n",
              "    </tr>\n",
              "  </thead>\n",
              "  <tbody>\n",
              "    <tr>\n",
              "      <th>count</th>\n",
              "      <td>101970</td>\n",
              "      <td>101970</td>\n",
              "      <td>101970</td>\n",
              "      <td>101970</td>\n",
              "    </tr>\n",
              "    <tr>\n",
              "      <th>unique</th>\n",
              "      <td>21296</td>\n",
              "      <td>85887</td>\n",
              "      <td>101767</td>\n",
              "      <td>42865</td>\n",
              "    </tr>\n",
              "    <tr>\n",
              "      <th>top</th>\n",
              "      <td>India</td>\n",
              "      <td>2020-07-29 16:00:00</td>\n",
              "      <td>In The Doom Days Of #COVID19 And Other Trouble...</td>\n",
              "      <td>['COVID19']</td>\n",
              "    </tr>\n",
              "    <tr>\n",
              "      <th>freq</th>\n",
              "      <td>2978</td>\n",
              "      <td>18</td>\n",
              "      <td>10</td>\n",
              "      <td>30903</td>\n",
              "    </tr>\n",
              "    <tr>\n",
              "      <th>first</th>\n",
              "      <td>NaN</td>\n",
              "      <td>2020-07-24 23:47:12</td>\n",
              "      <td>NaN</td>\n",
              "      <td>NaN</td>\n",
              "    </tr>\n",
              "    <tr>\n",
              "      <th>last</th>\n",
              "      <td>NaN</td>\n",
              "      <td>2020-08-30 09:07:34</td>\n",
              "      <td>NaN</td>\n",
              "      <td>NaN</td>\n",
              "    </tr>\n",
              "  </tbody>\n",
              "</table>\n",
              "</div>\n",
              "      <button class=\"colab-df-convert\" onclick=\"convertToInteractive('df-2d93ee55-725b-4d07-baa9-6cfc0e15af0b')\"\n",
              "              title=\"Convert this dataframe to an interactive table.\"\n",
              "              style=\"display:none;\">\n",
              "        \n",
              "  <svg xmlns=\"http://www.w3.org/2000/svg\" height=\"24px\"viewBox=\"0 0 24 24\"\n",
              "       width=\"24px\">\n",
              "    <path d=\"M0 0h24v24H0V0z\" fill=\"none\"/>\n",
              "    <path d=\"M18.56 5.44l.94 2.06.94-2.06 2.06-.94-2.06-.94-.94-2.06-.94 2.06-2.06.94zm-11 1L8.5 8.5l.94-2.06 2.06-.94-2.06-.94L8.5 2.5l-.94 2.06-2.06.94zm10 10l.94 2.06.94-2.06 2.06-.94-2.06-.94-.94-2.06-.94 2.06-2.06.94z\"/><path d=\"M17.41 7.96l-1.37-1.37c-.4-.4-.92-.59-1.43-.59-.52 0-1.04.2-1.43.59L10.3 9.45l-7.72 7.72c-.78.78-.78 2.05 0 2.83L4 21.41c.39.39.9.59 1.41.59.51 0 1.02-.2 1.41-.59l7.78-7.78 2.81-2.81c.8-.78.8-2.07 0-2.86zM5.41 20L4 18.59l7.72-7.72 1.47 1.35L5.41 20z\"/>\n",
              "  </svg>\n",
              "      </button>\n",
              "      \n",
              "  <style>\n",
              "    .colab-df-container {\n",
              "      display:flex;\n",
              "      flex-wrap:wrap;\n",
              "      gap: 12px;\n",
              "    }\n",
              "\n",
              "    .colab-df-convert {\n",
              "      background-color: #E8F0FE;\n",
              "      border: none;\n",
              "      border-radius: 50%;\n",
              "      cursor: pointer;\n",
              "      display: none;\n",
              "      fill: #1967D2;\n",
              "      height: 32px;\n",
              "      padding: 0 0 0 0;\n",
              "      width: 32px;\n",
              "    }\n",
              "\n",
              "    .colab-df-convert:hover {\n",
              "      background-color: #E2EBFA;\n",
              "      box-shadow: 0px 1px 2px rgba(60, 64, 67, 0.3), 0px 1px 3px 1px rgba(60, 64, 67, 0.15);\n",
              "      fill: #174EA6;\n",
              "    }\n",
              "\n",
              "    [theme=dark] .colab-df-convert {\n",
              "      background-color: #3B4455;\n",
              "      fill: #D2E3FC;\n",
              "    }\n",
              "\n",
              "    [theme=dark] .colab-df-convert:hover {\n",
              "      background-color: #434B5C;\n",
              "      box-shadow: 0px 1px 3px 1px rgba(0, 0, 0, 0.15);\n",
              "      filter: drop-shadow(0px 1px 2px rgba(0, 0, 0, 0.3));\n",
              "      fill: #FFFFFF;\n",
              "    }\n",
              "  </style>\n",
              "\n",
              "      <script>\n",
              "        const buttonEl =\n",
              "          document.querySelector('#df-2d93ee55-725b-4d07-baa9-6cfc0e15af0b button.colab-df-convert');\n",
              "        buttonEl.style.display =\n",
              "          google.colab.kernel.accessAllowed ? 'block' : 'none';\n",
              "\n",
              "        async function convertToInteractive(key) {\n",
              "          const element = document.querySelector('#df-2d93ee55-725b-4d07-baa9-6cfc0e15af0b');\n",
              "          const dataTable =\n",
              "            await google.colab.kernel.invokeFunction('convertToInteractive',\n",
              "                                                     [key], {});\n",
              "          if (!dataTable) return;\n",
              "\n",
              "          const docLinkHtml = 'Like what you see? Visit the ' +\n",
              "            '<a target=\"_blank\" href=https://colab.research.google.com/notebooks/data_table.ipynb>data table notebook</a>'\n",
              "            + ' to learn more about interactive tables.';\n",
              "          element.innerHTML = '';\n",
              "          dataTable['output_type'] = 'display_data';\n",
              "          await google.colab.output.renderOutput(dataTable, element);\n",
              "          const docLink = document.createElement('div');\n",
              "          docLink.innerHTML = docLinkHtml;\n",
              "          element.appendChild(docLink);\n",
              "        }\n",
              "      </script>\n",
              "    </div>\n",
              "  </div>\n",
              "  "
            ]
          },
          "metadata": {},
          "execution_count": 17
        }
      ]
    },
    {
      "cell_type": "code",
      "source": [
        "df_covid3.info()"
      ],
      "metadata": {
        "colab": {
          "base_uri": "https://localhost:8080/"
        },
        "id": "E8LvpNSGegoS",
        "outputId": "4aebdb32-7007-47cc-da1c-1a72ed9c4ffb"
      },
      "execution_count": 18,
      "outputs": [
        {
          "output_type": "stream",
          "name": "stdout",
          "text": [
            "<class 'pandas.core.frame.DataFrame'>\n",
            "Int64Index: 101970 entries, 2 to 179106\n",
            "Data columns (total 4 columns):\n",
            " #   Column         Non-Null Count   Dtype         \n",
            "---  ------         --------------   -----         \n",
            " 0   user_location  101970 non-null  object        \n",
            " 1   date           101970 non-null  datetime64[ns]\n",
            " 2   text           101970 non-null  object        \n",
            " 3   hashtags       101970 non-null  object        \n",
            "dtypes: datetime64[ns](1), object(3)\n",
            "memory usage: 3.9+ MB\n"
          ]
        }
      ]
    },
    {
      "cell_type": "code",
      "source": [
        "#Vamos a eliminar URLs, menciones, hashtags y caracteres especiales para simplificar el contenido del mensaje\n",
        "def clean_tweet(text):\n",
        "    text = re.sub(r'http\\S+', '', text)\n",
        "    text = re.sub(r'@[^\\s]+', '', text)\n",
        "    text = re.sub(r'#', '', text)\n",
        "    text = re.sub(r'\\W\\s,¡!', '', text)\n",
        "    return text\n",
        "\n",
        "df_covid4 = df_covid3.copy()\n",
        "df_covid4['text'] = df_covid4['text'].apply(clean_tweet)"
      ],
      "metadata": {
        "id": "FantFgCJe828"
      },
      "execution_count": 19,
      "outputs": []
    },
    {
      "cell_type": "code",
      "source": [
        "df_covid4"
      ],
      "metadata": {
        "colab": {
          "base_uri": "https://localhost:8080/",
          "height": 423
        },
        "id": "k3TXrspMh5eI",
        "outputId": "763f9793-4f76-4f2e-fdb5-5eace864b83e"
      },
      "execution_count": 20,
      "outputs": [
        {
          "output_type": "execute_result",
          "data": {
            "text/plain": [
              "               user_location                date  \\\n",
              "2           Pewee Valley, KY 2020-07-25 12:27:14   \n",
              "3       Stuck in the Middle  2020-07-25 12:27:10   \n",
              "4          Jammu and Kashmir 2020-07-25 12:27:08   \n",
              "5                Новоро́ссия 2020-07-25 12:27:06   \n",
              "6            Gainesville, FL 2020-07-25 12:27:03   \n",
              "...                      ...                 ...   \n",
              "179101            Newton, NJ 2020-08-29 19:44:27   \n",
              "179102                  T.O. 2020-08-29 19:44:23   \n",
              "179103       Ilorin, Nigeria 2020-08-29 19:44:21   \n",
              "179104               Ontario 2020-08-29 19:44:16   \n",
              "179106         New York City 2020-08-29 19:44:14   \n",
              "\n",
              "                                                     text  \\\n",
              "2          Trump never once claimed COVID19 was a hoax...   \n",
              "3        The one gift COVID19 has give me is an apprec...   \n",
              "4       25 July : Media Bulletin on Novel CoronaVirusU...   \n",
              "5       coronavirus covid19 deaths continue to rise. I...   \n",
              "6       How COVID19 Will Change Work in General (and r...   \n",
              "...                                                   ...   \n",
              "179101  Wallkill school nurse adds COVID-19 monitoring...   \n",
              "179102  we have reached 25mil cases of covid19, worldw...   \n",
              "179103  Thanks  for nominating me for the  WearAMask c...   \n",
              "179104          2020! The year of insanity! Lol! COVID19    \n",
              "179106  More than 1,200 students test positive for COV...   \n",
              "\n",
              "                                               hashtags  \n",
              "2                                           ['COVID19']  \n",
              "3                                           ['COVID19']  \n",
              "4                     ['CoronaVirusUpdates', 'COVID19']  \n",
              "5                            ['coronavirus', 'covid19']  \n",
              "6                             ['COVID19', 'Recruiting']  \n",
              "...                                                 ...  \n",
              "179101  ['nurses', 'COVID19', 'coronavirus', 'schools']  \n",
              "179102                                      ['covid19']  \n",
              "179103                                    ['WearAMask']  \n",
              "179104                                      ['COVID19']  \n",
              "179106                                      ['COVID19']  \n",
              "\n",
              "[101970 rows x 4 columns]"
            ],
            "text/html": [
              "\n",
              "  <div id=\"df-a648e6d5-3c88-4482-bb37-4443ba44644f\">\n",
              "    <div class=\"colab-df-container\">\n",
              "      <div>\n",
              "<style scoped>\n",
              "    .dataframe tbody tr th:only-of-type {\n",
              "        vertical-align: middle;\n",
              "    }\n",
              "\n",
              "    .dataframe tbody tr th {\n",
              "        vertical-align: top;\n",
              "    }\n",
              "\n",
              "    .dataframe thead th {\n",
              "        text-align: right;\n",
              "    }\n",
              "</style>\n",
              "<table border=\"1\" class=\"dataframe\">\n",
              "  <thead>\n",
              "    <tr style=\"text-align: right;\">\n",
              "      <th></th>\n",
              "      <th>user_location</th>\n",
              "      <th>date</th>\n",
              "      <th>text</th>\n",
              "      <th>hashtags</th>\n",
              "    </tr>\n",
              "  </thead>\n",
              "  <tbody>\n",
              "    <tr>\n",
              "      <th>2</th>\n",
              "      <td>Pewee Valley, KY</td>\n",
              "      <td>2020-07-25 12:27:14</td>\n",
              "      <td>Trump never once claimed COVID19 was a hoax...</td>\n",
              "      <td>['COVID19']</td>\n",
              "    </tr>\n",
              "    <tr>\n",
              "      <th>3</th>\n",
              "      <td>Stuck in the Middle</td>\n",
              "      <td>2020-07-25 12:27:10</td>\n",
              "      <td>The one gift COVID19 has give me is an apprec...</td>\n",
              "      <td>['COVID19']</td>\n",
              "    </tr>\n",
              "    <tr>\n",
              "      <th>4</th>\n",
              "      <td>Jammu and Kashmir</td>\n",
              "      <td>2020-07-25 12:27:08</td>\n",
              "      <td>25 July : Media Bulletin on Novel CoronaVirusU...</td>\n",
              "      <td>['CoronaVirusUpdates', 'COVID19']</td>\n",
              "    </tr>\n",
              "    <tr>\n",
              "      <th>5</th>\n",
              "      <td>Новоро́ссия</td>\n",
              "      <td>2020-07-25 12:27:06</td>\n",
              "      <td>coronavirus covid19 deaths continue to rise. I...</td>\n",
              "      <td>['coronavirus', 'covid19']</td>\n",
              "    </tr>\n",
              "    <tr>\n",
              "      <th>6</th>\n",
              "      <td>Gainesville, FL</td>\n",
              "      <td>2020-07-25 12:27:03</td>\n",
              "      <td>How COVID19 Will Change Work in General (and r...</td>\n",
              "      <td>['COVID19', 'Recruiting']</td>\n",
              "    </tr>\n",
              "    <tr>\n",
              "      <th>...</th>\n",
              "      <td>...</td>\n",
              "      <td>...</td>\n",
              "      <td>...</td>\n",
              "      <td>...</td>\n",
              "    </tr>\n",
              "    <tr>\n",
              "      <th>179101</th>\n",
              "      <td>Newton, NJ</td>\n",
              "      <td>2020-08-29 19:44:27</td>\n",
              "      <td>Wallkill school nurse adds COVID-19 monitoring...</td>\n",
              "      <td>['nurses', 'COVID19', 'coronavirus', 'schools']</td>\n",
              "    </tr>\n",
              "    <tr>\n",
              "      <th>179102</th>\n",
              "      <td>T.O.</td>\n",
              "      <td>2020-08-29 19:44:23</td>\n",
              "      <td>we have reached 25mil cases of covid19, worldw...</td>\n",
              "      <td>['covid19']</td>\n",
              "    </tr>\n",
              "    <tr>\n",
              "      <th>179103</th>\n",
              "      <td>Ilorin, Nigeria</td>\n",
              "      <td>2020-08-29 19:44:21</td>\n",
              "      <td>Thanks  for nominating me for the  WearAMask c...</td>\n",
              "      <td>['WearAMask']</td>\n",
              "    </tr>\n",
              "    <tr>\n",
              "      <th>179104</th>\n",
              "      <td>Ontario</td>\n",
              "      <td>2020-08-29 19:44:16</td>\n",
              "      <td>2020! The year of insanity! Lol! COVID19</td>\n",
              "      <td>['COVID19']</td>\n",
              "    </tr>\n",
              "    <tr>\n",
              "      <th>179106</th>\n",
              "      <td>New York City</td>\n",
              "      <td>2020-08-29 19:44:14</td>\n",
              "      <td>More than 1,200 students test positive for COV...</td>\n",
              "      <td>['COVID19']</td>\n",
              "    </tr>\n",
              "  </tbody>\n",
              "</table>\n",
              "<p>101970 rows × 4 columns</p>\n",
              "</div>\n",
              "      <button class=\"colab-df-convert\" onclick=\"convertToInteractive('df-a648e6d5-3c88-4482-bb37-4443ba44644f')\"\n",
              "              title=\"Convert this dataframe to an interactive table.\"\n",
              "              style=\"display:none;\">\n",
              "        \n",
              "  <svg xmlns=\"http://www.w3.org/2000/svg\" height=\"24px\"viewBox=\"0 0 24 24\"\n",
              "       width=\"24px\">\n",
              "    <path d=\"M0 0h24v24H0V0z\" fill=\"none\"/>\n",
              "    <path d=\"M18.56 5.44l.94 2.06.94-2.06 2.06-.94-2.06-.94-.94-2.06-.94 2.06-2.06.94zm-11 1L8.5 8.5l.94-2.06 2.06-.94-2.06-.94L8.5 2.5l-.94 2.06-2.06.94zm10 10l.94 2.06.94-2.06 2.06-.94-2.06-.94-.94-2.06-.94 2.06-2.06.94z\"/><path d=\"M17.41 7.96l-1.37-1.37c-.4-.4-.92-.59-1.43-.59-.52 0-1.04.2-1.43.59L10.3 9.45l-7.72 7.72c-.78.78-.78 2.05 0 2.83L4 21.41c.39.39.9.59 1.41.59.51 0 1.02-.2 1.41-.59l7.78-7.78 2.81-2.81c.8-.78.8-2.07 0-2.86zM5.41 20L4 18.59l7.72-7.72 1.47 1.35L5.41 20z\"/>\n",
              "  </svg>\n",
              "      </button>\n",
              "      \n",
              "  <style>\n",
              "    .colab-df-container {\n",
              "      display:flex;\n",
              "      flex-wrap:wrap;\n",
              "      gap: 12px;\n",
              "    }\n",
              "\n",
              "    .colab-df-convert {\n",
              "      background-color: #E8F0FE;\n",
              "      border: none;\n",
              "      border-radius: 50%;\n",
              "      cursor: pointer;\n",
              "      display: none;\n",
              "      fill: #1967D2;\n",
              "      height: 32px;\n",
              "      padding: 0 0 0 0;\n",
              "      width: 32px;\n",
              "    }\n",
              "\n",
              "    .colab-df-convert:hover {\n",
              "      background-color: #E2EBFA;\n",
              "      box-shadow: 0px 1px 2px rgba(60, 64, 67, 0.3), 0px 1px 3px 1px rgba(60, 64, 67, 0.15);\n",
              "      fill: #174EA6;\n",
              "    }\n",
              "\n",
              "    [theme=dark] .colab-df-convert {\n",
              "      background-color: #3B4455;\n",
              "      fill: #D2E3FC;\n",
              "    }\n",
              "\n",
              "    [theme=dark] .colab-df-convert:hover {\n",
              "      background-color: #434B5C;\n",
              "      box-shadow: 0px 1px 3px 1px rgba(0, 0, 0, 0.15);\n",
              "      filter: drop-shadow(0px 1px 2px rgba(0, 0, 0, 0.3));\n",
              "      fill: #FFFFFF;\n",
              "    }\n",
              "  </style>\n",
              "\n",
              "      <script>\n",
              "        const buttonEl =\n",
              "          document.querySelector('#df-a648e6d5-3c88-4482-bb37-4443ba44644f button.colab-df-convert');\n",
              "        buttonEl.style.display =\n",
              "          google.colab.kernel.accessAllowed ? 'block' : 'none';\n",
              "\n",
              "        async function convertToInteractive(key) {\n",
              "          const element = document.querySelector('#df-a648e6d5-3c88-4482-bb37-4443ba44644f');\n",
              "          const dataTable =\n",
              "            await google.colab.kernel.invokeFunction('convertToInteractive',\n",
              "                                                     [key], {});\n",
              "          if (!dataTable) return;\n",
              "\n",
              "          const docLinkHtml = 'Like what you see? Visit the ' +\n",
              "            '<a target=\"_blank\" href=https://colab.research.google.com/notebooks/data_table.ipynb>data table notebook</a>'\n",
              "            + ' to learn more about interactive tables.';\n",
              "          element.innerHTML = '';\n",
              "          dataTable['output_type'] = 'display_data';\n",
              "          await google.colab.output.renderOutput(dataTable, element);\n",
              "          const docLink = document.createElement('div');\n",
              "          docLink.innerHTML = docLinkHtml;\n",
              "          element.appendChild(docLink);\n",
              "        }\n",
              "      </script>\n",
              "    </div>\n",
              "  </div>\n",
              "  "
            ]
          },
          "metadata": {},
          "execution_count": 20
        }
      ]
    },
    {
      "cell_type": "markdown",
      "source": [
        "# Análisis"
      ],
      "metadata": {
        "id": "GJ4bHzyhf4B9"
      }
    },
    {
      "cell_type": "markdown",
      "source": [
        "Localización geográfica"
      ],
      "metadata": {
        "id": "XDZ7OQ7PthkM"
      }
    },
    {
      "cell_type": "code",
      "source": [
        "tweet_location = df_covid4['user_location'].value_counts()\n",
        "tweet_loc = tweet_location[:10]\n",
        "tweet_loc"
      ],
      "metadata": {
        "colab": {
          "base_uri": "https://localhost:8080/"
        },
        "id": "EN3D1-atGbcx",
        "outputId": "42cf94c7-80f4-455e-9670-a8e980bfef47"
      },
      "execution_count": 36,
      "outputs": [
        {
          "output_type": "execute_result",
          "data": {
            "text/plain": [
              "India               2978\n",
              "United States       1795\n",
              "New Delhi, India    1381\n",
              "Mumbai, India       1110\n",
              "Washington, DC       961\n",
              "London, England      868\n",
              "New York, NY         781\n",
              "London               766\n",
              "United Kingdom       727\n",
              "New Delhi            680\n",
              "Name: user_location, dtype: int64"
            ]
          },
          "metadata": {},
          "execution_count": 36
        }
      ]
    },
    {
      "cell_type": "markdown",
      "source": [
        "Estas son las localizacones con mas tweets, el problema es que tenemos por un lado USA y por otro tenemos estados de USA que están separados, como si no fueran parte de USA. Asi que tenemos que juntar varios de estos datos"
      ],
      "metadata": {
        "id": "fbtLc5W0EvYE"
      }
    },
    {
      "cell_type": "code",
      "source": [
        "plt.figure(figsize = (15,10))\n",
        "sns.barplot(x = tw_loc.Location,y = tw_loc.counts, data = tw_loc)"
      ],
      "metadata": {
        "colab": {
          "base_uri": "https://localhost:8080/",
          "height": 847
        },
        "id": "ho9FhdXnGHEW",
        "outputId": "2971b14e-e449-46bf-e1d5-0455c3c44d01"
      },
      "execution_count": 37,
      "outputs": [
        {
          "output_type": "execute_result",
          "data": {
            "text/plain": [
              "<Axes: xlabel='Location', ylabel='counts'>"
            ]
          },
          "metadata": {},
          "execution_count": 37
        },
        {
          "output_type": "display_data",
          "data": {
            "text/plain": [
              "<Figure size 1500x1000 with 1 Axes>"
            ],
            "image/png": "[encoded data removed]"
          },
          "metadata": {}
        }
      ]
    },
    {
      "cell_type": "markdown",
      "source": [
        "Hastag count"
      ],
      "metadata": {
        "id": "cB5QWjNqt8Fi"
      }
    },
    {
      "cell_type": "code",
      "source": [
        "hashtags = df_covid4['hashtags'].explode().tolist()\n",
        "top_hashtags = Counter(hashtags).most_common(10)\n",
        "df_top_hashtags = pd.DataFrame(top_hashtags, columns=['Hashtag', 'Frecuencia'])\n",
        "\n",
        "print(df_top_hashtags)\n"
      ],
      "metadata": {
        "colab": {
          "base_uri": "https://localhost:8080/"
        },
        "id": "8uqJnJHBKp5j",
        "outputId": "9d6e704a-b116-47fa-ec63-d52a4261a94e"
      },
      "execution_count": 62,
      "outputs": [
        {
          "output_type": "stream",
          "name": "stdout",
          "text": [
            "                             Hashtag  Frecuencia\n",
            "0                        ['COVID19']       30903\n",
            "1                        ['Covid19']        3925\n",
            "2                        ['covid19']        2459\n",
            "3                    ['coronavirus']         450\n",
            "4         ['COVID19', 'coronavirus']         419\n",
            "5         ['coronavirus', 'COVID19']         396\n",
            "6         ['Coronavirus', 'COVID19']         271\n",
            "7  ['CoronaVirusUpdates', 'COVID19']         246\n",
            "8                    ['Coronavirus']         232\n",
            "9               ['India', 'COVID19']         147\n"
          ]
        }
      ]
    },
    {
      "cell_type": "code",
      "source": [
        "plt.figure(figsize = (20,10))\n",
        "sns.barplot(x = df_top_hashtags.Hashtag, y = df_top_hashtags.Frecuencia, data = df_top_hashtags)\n",
        "plt.title('Top 10 Hashtags en Twitter', fontweight = 'bold', fontsize='20')"
      ],
      "metadata": {
        "colab": {
          "base_uri": "https://localhost:8080/",
          "height": 673
        },
        "id": "pHlIh-BTK_9_",
        "outputId": "0eb63771-1af3-4c3e-f4c6-03cfda15c850"
      },
      "execution_count": 106,
      "outputs": [
        {
          "output_type": "execute_result",
          "data": {
            "text/plain": [
              "Text(0.5, 1.0, 'Top 10 Hashtags en Twitter')"
            ]
          },
          "metadata": {},
          "execution_count": 106
        },
        {
          "output_type": "display_data",
          "data": {
            "text/plain": [
              "<Figure size 2000x1000 with 1 Axes>"
            ],
            "image/png": "[encoded data removed]"
          },
          "metadata": {}
        }
      ]
    },
    {
      "cell_type": "markdown",
      "source": [
        "Date analysis"
      ],
      "metadata": {
        "id": "e_FXINCxvM_F"
      }
    },
    {
      "cell_type": "code",
      "source": [
        "df_date= df_covid4.copy()\n",
        "df_date['date'].value_counts()"
      ],
      "metadata": {
        "colab": {
          "base_uri": "https://localhost:8080/"
        },
        "id": "Q0wkitEHG_c3",
        "outputId": "48f0514a-4f26-421b-8689-919ab7ff1a31"
      },
      "execution_count": 38,
      "outputs": [
        {
          "output_type": "execute_result",
          "data": {
            "text/plain": [
              "2020-07-29 16:00:00    18\n",
              "2020-08-06 16:00:00    18\n",
              "2020-08-04 07:00:00    17\n",
              "2020-07-29 16:30:00    16\n",
              "2020-08-10 15:30:00    16\n",
              "                       ..\n",
              "2020-08-02 18:21:56     1\n",
              "2020-08-02 18:21:58     1\n",
              "2020-08-02 18:22:16     1\n",
              "2020-08-02 18:22:22     1\n",
              "2020-08-29 19:44:14     1\n",
              "Name: date, Length: 85887, dtype: int64"
            ]
          },
          "metadata": {},
          "execution_count": 38
        }
      ]
    },
    {
      "cell_type": "code",
      "source": [
        "df_grouped = df_covid4.groupby(pd.Grouper(key='date', freq='D')).size().reset_index(name='count')"
      ],
      "metadata": {
        "id": "6Iy_dUFzHg93"
      },
      "execution_count": 43,
      "outputs": []
    },
    {
      "cell_type": "code",
      "source": [
        "df_covid4['date'] = pd.to_datetime(df_covid4['date'])\n",
        "df_covid4['date'].dt.date"
      ],
      "metadata": {
        "colab": {
          "base_uri": "https://localhost:8080/"
        },
        "id": "RQZP-PdSIMzx",
        "outputId": "237b2a49-d785-40fa-e67f-4570b2e0b119"
      },
      "execution_count": 47,
      "outputs": [
        {
          "output_type": "execute_result",
          "data": {
            "text/plain": [
              "2         2020-07-25\n",
              "3         2020-07-25\n",
              "4         2020-07-25\n",
              "5         2020-07-25\n",
              "6         2020-07-25\n",
              "             ...    \n",
              "179101    2020-08-29\n",
              "179102    2020-08-29\n",
              "179103    2020-08-29\n",
              "179104    2020-08-29\n",
              "179106    2020-08-29\n",
              "Name: date, Length: 101970, dtype: object"
            ]
          },
          "metadata": {},
          "execution_count": 47
        }
      ]
    },
    {
      "cell_type": "code",
      "source": [
        "df_tweets_por_dia = df_covid4.groupby(df_covid3['date'].dt.date)['text'].count()\n",
        "df_tweets_por_dia = pd.DataFrame({'fecha': df_tweets_por_dia.index, 'tweets': df_tweets_por_dia.values})\n",
        "\n",
        "print(df_tweets_por_dia)"
      ],
      "metadata": {
        "colab": {
          "base_uri": "https://localhost:8080/"
        },
        "id": "H-Qvf0eUHlmN",
        "outputId": "80045892-ed6e-4924-e1c1-de004c4fa933"
      },
      "execution_count": 51,
      "outputs": [
        {
          "output_type": "stream",
          "name": "stdout",
          "text": [
            "         fecha  tweets\n",
            "0   2020-07-24     160\n",
            "1   2020-07-25    9535\n",
            "2   2020-07-26    4402\n",
            "3   2020-07-27    4309\n",
            "4   2020-07-28    4241\n",
            "5   2020-07-29    1574\n",
            "6   2020-07-30    1093\n",
            "7   2020-07-31    4295\n",
            "8   2020-08-01    4308\n",
            "9   2020-08-02    4131\n",
            "10  2020-08-04    4344\n",
            "11  2020-08-06    4221\n",
            "12  2020-08-07     585\n",
            "13  2020-08-08    4213\n",
            "14  2020-08-09    4407\n",
            "15  2020-08-10    2716\n",
            "16  2020-08-11    4350\n",
            "17  2020-08-12    4320\n",
            "18  2020-08-13    4270\n",
            "19  2020-08-14    4247\n",
            "20  2020-08-16    4263\n",
            "21  2020-08-17    4347\n",
            "22  2020-08-18    4215\n",
            "23  2020-08-22    6569\n",
            "24  2020-08-29    2184\n",
            "25  2020-08-30    4671\n"
          ]
        }
      ]
    },
    {
      "cell_type": "code",
      "source": [
        "plt.figure(figsize = (20,10))\n",
        "sns.lineplot(x =df_tweets_por_dia.fecha, y = df_tweets_por_dia.tweets, color = 'purple', marker = 'o')\n",
        "plt.title('Numero de Tweets por dia')"
      ],
      "metadata": {
        "colab": {
          "base_uri": "https://localhost:8080/",
          "height": 667
        },
        "id": "GYP_V8PkH9Su",
        "outputId": "de2b7062-997c-443b-e5b6-7a711456609f"
      },
      "execution_count": 54,
      "outputs": [
        {
          "output_type": "execute_result",
          "data": {
            "text/plain": [
              "Text(0.5, 1.0, 'Numero de Tweets por dia')"
            ]
          },
          "metadata": {},
          "execution_count": 54
        },
        {
          "output_type": "display_data",
          "data": {
            "text/plain": [
              "<Figure size 2000x1000 with 1 Axes>"
            ],
            "image/png": "[encoded data removed]"
          },
          "metadata": {}
        }
      ]
    }
  ]
}